{
 "cells": [
  {
   "cell_type": "markdown",
   "source": [
    "## AutoCat Demo\n",
    "\n",
    "Simple demo for using AutoCat.\n",
    "\n",
    "Using the car price dataset: https://www.kaggle.com/aleksandrglotov/car-prices-poland"
   ],
   "metadata": {
    "collapsed": false
   }
  },
  {
   "cell_type": "markdown",
   "source": [
    "First, importing libraries"
   ],
   "metadata": {
    "collapsed": false
   }
  },
  {
   "cell_type": "code",
   "execution_count": 1,
   "outputs": [],
   "source": [
    "import numpy as np\n",
    "import matplotlib.pyplot as plt\n",
    "import pandas as pd\n",
    "import sklearn\n",
    "from sklearn.ensemble import RandomForestRegressor\n",
    "\n",
    "%matplotlib inline"
   ],
   "metadata": {
    "collapsed": false,
    "pycharm": {
     "name": "#%%\n"
    }
   }
  },
  {
   "cell_type": "markdown",
   "source": [
    "Load \"Car Prices\" dataset, clean the data and prepare it (using `CarPrices` data prep class).\n",
    "\n",
    "Pipeline description:\n",
    "   - Drop redundant columns\n",
    "   - Drop redundant province (\"(\")\n",
    "   - Drop price outliers\n",
    "   - Return prices in log scale"
   ],
   "metadata": {
    "collapsed": false
   }
  },
  {
   "cell_type": "code",
   "execution_count": 117,
   "outputs": [
    {
     "data": {
      "text/plain": "             mark    model    generation_name  year  mileage  vol_engine  \\\n81638   chevrolet   camaro                NaN  2016    57000        6162   \n37183  volkswagen     golf   gen-vi-2008-2013  2011    89500        1390   \n41248  volkswagen   passat        gen-b8-2014  2019    55869        1968   \n93280     hyundai   tucson  gen-iii-2015-2020  2017    80806        1591   \n78255       skoda  octavia       gen-iii-2013  2019    91955        1500   \n...           ...      ...                ...   ...      ...         ...   \n17633        audi       a5   gen-8t-2007-2016  2008   148000        1798   \n79574       skoda   superb        gen-ii-2008  2014   162090        1968   \n94888         kia     ceed    gen-i-2006-2012  2009    71000        1396   \n13591        audi       a3   gen-8p-2003-2012  2006   222300        1984   \n72989      toyota    prius  gen-iii-2009-2015  2015   211000        1798   \n\n           fuel          city            province  \n81638  Gasoline       Gorlice         Małopolskie  \n37183  Gasoline      Przemyśl        Podkarpackie  \n41248    Diesel          Łódź             Łódzkie  \n93280  Gasoline      Warszawa         Mazowieckie  \n78255  Gasoline        Kowale           Pomorskie  \n...         ...           ...                 ...  \n17633  Gasoline        Budzyń       Wielkopolskie  \n79574    Diesel        Rybnik             Śląskie  \n94888  Gasoline        Chojna  Zachodniopomorskie  \n13591  Gasoline     Rydułtowy             Śląskie  \n72989    Hybrid  Starachowice      Świętokrzyskie  \n\n[91412 rows x 9 columns]",
      "text/html": "<div>\n<style scoped>\n    .dataframe tbody tr th:only-of-type {\n        vertical-align: middle;\n    }\n\n    .dataframe tbody tr th {\n        vertical-align: top;\n    }\n\n    .dataframe thead th {\n        text-align: right;\n    }\n</style>\n<table border=\"1\" class=\"dataframe\">\n  <thead>\n    <tr style=\"text-align: right;\">\n      <th></th>\n      <th>mark</th>\n      <th>model</th>\n      <th>generation_name</th>\n      <th>year</th>\n      <th>mileage</th>\n      <th>vol_engine</th>\n      <th>fuel</th>\n      <th>city</th>\n      <th>province</th>\n    </tr>\n  </thead>\n  <tbody>\n    <tr>\n      <th>81638</th>\n      <td>chevrolet</td>\n      <td>camaro</td>\n      <td>NaN</td>\n      <td>2016</td>\n      <td>57000</td>\n      <td>6162</td>\n      <td>Gasoline</td>\n      <td>Gorlice</td>\n      <td>Małopolskie</td>\n    </tr>\n    <tr>\n      <th>37183</th>\n      <td>volkswagen</td>\n      <td>golf</td>\n      <td>gen-vi-2008-2013</td>\n      <td>2011</td>\n      <td>89500</td>\n      <td>1390</td>\n      <td>Gasoline</td>\n      <td>Przemyśl</td>\n      <td>Podkarpackie</td>\n    </tr>\n    <tr>\n      <th>41248</th>\n      <td>volkswagen</td>\n      <td>passat</td>\n      <td>gen-b8-2014</td>\n      <td>2019</td>\n      <td>55869</td>\n      <td>1968</td>\n      <td>Diesel</td>\n      <td>Łódź</td>\n      <td>Łódzkie</td>\n    </tr>\n    <tr>\n      <th>93280</th>\n      <td>hyundai</td>\n      <td>tucson</td>\n      <td>gen-iii-2015-2020</td>\n      <td>2017</td>\n      <td>80806</td>\n      <td>1591</td>\n      <td>Gasoline</td>\n      <td>Warszawa</td>\n      <td>Mazowieckie</td>\n    </tr>\n    <tr>\n      <th>78255</th>\n      <td>skoda</td>\n      <td>octavia</td>\n      <td>gen-iii-2013</td>\n      <td>2019</td>\n      <td>91955</td>\n      <td>1500</td>\n      <td>Gasoline</td>\n      <td>Kowale</td>\n      <td>Pomorskie</td>\n    </tr>\n    <tr>\n      <th>...</th>\n      <td>...</td>\n      <td>...</td>\n      <td>...</td>\n      <td>...</td>\n      <td>...</td>\n      <td>...</td>\n      <td>...</td>\n      <td>...</td>\n      <td>...</td>\n    </tr>\n    <tr>\n      <th>17633</th>\n      <td>audi</td>\n      <td>a5</td>\n      <td>gen-8t-2007-2016</td>\n      <td>2008</td>\n      <td>148000</td>\n      <td>1798</td>\n      <td>Gasoline</td>\n      <td>Budzyń</td>\n      <td>Wielkopolskie</td>\n    </tr>\n    <tr>\n      <th>79574</th>\n      <td>skoda</td>\n      <td>superb</td>\n      <td>gen-ii-2008</td>\n      <td>2014</td>\n      <td>162090</td>\n      <td>1968</td>\n      <td>Diesel</td>\n      <td>Rybnik</td>\n      <td>Śląskie</td>\n    </tr>\n    <tr>\n      <th>94888</th>\n      <td>kia</td>\n      <td>ceed</td>\n      <td>gen-i-2006-2012</td>\n      <td>2009</td>\n      <td>71000</td>\n      <td>1396</td>\n      <td>Gasoline</td>\n      <td>Chojna</td>\n      <td>Zachodniopomorskie</td>\n    </tr>\n    <tr>\n      <th>13591</th>\n      <td>audi</td>\n      <td>a3</td>\n      <td>gen-8p-2003-2012</td>\n      <td>2006</td>\n      <td>222300</td>\n      <td>1984</td>\n      <td>Gasoline</td>\n      <td>Rydułtowy</td>\n      <td>Śląskie</td>\n    </tr>\n    <tr>\n      <th>72989</th>\n      <td>toyota</td>\n      <td>prius</td>\n      <td>gen-iii-2009-2015</td>\n      <td>2015</td>\n      <td>211000</td>\n      <td>1798</td>\n      <td>Hybrid</td>\n      <td>Starachowice</td>\n      <td>Świętokrzyskie</td>\n    </tr>\n  </tbody>\n</table>\n<p>91412 rows × 9 columns</p>\n</div>"
     },
     "execution_count": 117,
     "metadata": {},
     "output_type": "execute_result"
    }
   ],
   "source": [
    "from evaluate.data_prep.car_prices import CarPrices\n",
    "\n",
    "data = pd.read_csv('./evaluate/datasets/Car_Prices_Poland_Kaggle.csv')\n",
    "X, Y = CarPrices().transform(data)\n",
    "\n",
    "\n",
    "X_train, X_test, Y_train, Y_test = sklearn.model_selection.train_test_split(X, Y, test_size=0.2)\n",
    "X_train"
   ],
   "metadata": {
    "collapsed": false,
    "pycharm": {
     "name": "#%%\n"
    }
   }
  },
  {
   "cell_type": "markdown",
   "source": [
    "First, embed using random integer labels for each class (using `NaiveCategories` transformer).\n",
    "Train a Random Forest Regressor and measure the baseline performance"
   ],
   "metadata": {
    "collapsed": false
   }
  },
  {
   "cell_type": "code",
   "execution_count": 118,
   "outputs": [
    {
     "name": "stdout",
     "output_type": "stream",
     "text": [
      "r2 0.9268008861120894\n",
      "mae 0.016809034731774437\n"
     ]
    }
   ],
   "source": [
    "from auto_cat.cat_discover import CatDiscover\n",
    "from auto_cat.transformers.naive_cat import NaiveCategories\n",
    "\n",
    "\n",
    "categorical_columns = CatDiscover().discover_categories(X_train)\n",
    "naive_transformer = NaiveCategories()\n",
    "X_train_naive = naive_transformer.fit_transform(X_train, categorical_columns)\n",
    "X_test_naive = naive_transformer.transform(X_test)\n",
    "\n",
    "model = RandomForestRegressor(n_estimators=80, max_depth=10).fit(X_train_naive, np.log(Y_train))\n",
    "\n",
    "naive_test_predictions = model.predict(X_test_naive)\n",
    "print('r2', model.score(X_test_naive, np.log(Y_test)))\n",
    "print('mae', sklearn.metrics.mean_absolute_error(np.log(Y_test), naive_test_predictions))"
   ],
   "metadata": {
    "collapsed": false,
    "pycharm": {
     "name": "#%%\n"
    }
   }
  },
  {
   "cell_type": "markdown",
   "source": [
    "Next, embed using AutoCat.\n",
    "Again, train a Random Forest Regressor and measure the new performance."
   ],
   "metadata": {
    "collapsed": false
   }
  },
  {
   "cell_type": "code",
   "execution_count": 128,
   "outputs": [
    {
     "name": "stdout",
     "output_type": "stream",
     "text": [
      "r2 0.9384184995698993\n",
      "mae 0.015324706221795537\n"
     ]
    }
   ],
   "source": [
    "from auto_cat.auto_cat import AutoCat\n",
    "\n",
    "autocat = AutoCat()\n",
    "X_train_auto = autocat.fit_transform(X_train, np.log(Y_train))\n",
    "X_test_auto = autocat.transform(X_test)\n",
    "\n",
    "model = RandomForestRegressor(n_estimators=80, max_depth=10).fit(X_train_auto, np.log(Y_train))\n",
    "\n",
    "autocat_test_predictions = model.predict(X_test_auto)\n",
    "print('r2', model.score(X_test_auto, np.log(Y_test)))\n",
    "print('mae', sklearn.metrics.mean_absolute_error(np.log(Y_test), autocat_test_predictions))"
   ],
   "metadata": {
    "collapsed": false,
    "pycharm": {
     "name": "#%%\n"
    }
   }
  },
  {
   "cell_type": "markdown",
   "source": [
    "Plotting the absolute errors of the naive embedding versus the AutoCat embedding.\n",
    "Note that AutoCat makes significantly smaller errors."
   ],
   "metadata": {
    "collapsed": false
   }
  },
  {
   "cell_type": "code",
   "execution_count": 129,
   "outputs": [
    {
     "data": {
      "text/plain": "Text(0.5, 0, 'Absolute Log Err')"
     },
     "execution_count": 129,
     "metadata": {},
     "output_type": "execute_result"
    },
    {
     "data": {
      "text/plain": "<Figure size 432x288 with 1 Axes>",
      "image/png": "[encoded data removed]"
     },
     "metadata": {
      "needs_background": "light"
     },
     "output_type": "display_data"
    }
   ],
   "source": [
    "import seaborn as sns\n",
    "\n",
    "sns.histplot({'naive': abs(naive_test_predictions - np.log(Y_test)),\n",
    "              'autocat': abs(autocat_test_predictions - np.log(Y_test))}, kde=True,\n",
    "             )\n",
    "plt.xlabel('Absolute Log Err')"
   ],
   "metadata": {
    "collapsed": false,
    "pycharm": {
     "name": "#%%\n"
    }
   }
  }
 ],
 "metadata": {
  "kernelspec": {
   "display_name": "Python 3",
   "language": "python",
   "name": "python3"
  },
  "language_info": {
   "codemirror_mode": {
    "name": "ipython",
    "version": 2
   },
   "file_extension": ".py",
   "mimetype": "text/x-python",
   "name": "python",
   "nbconvert_exporter": "python",
   "pygments_lexer": "ipython2",
   "version": "2.7.6"
  }
 },
 "nbformat": 4,
 "nbformat_minor": 0
}